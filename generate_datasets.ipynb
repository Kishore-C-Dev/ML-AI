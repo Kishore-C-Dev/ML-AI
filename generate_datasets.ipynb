{
  "nbformat": 4,
  "nbformat_minor": 0,
  "metadata": {
    "colab": {
      "provenance": [],
      "gpuType": "T4",
      "authorship_tag": "ABX9TyMU7Hax0zV7d2WsArYJH7JV"
    },
    "kernelspec": {
      "name": "python3",
      "display_name": "Python 3"
    },
    "language_info": {
      "name": "python"
    },
    "accelerator": "GPU",
    "widgets": {
      "application/vnd.jupyter.widget-state+json": {
        "4f927e2714904ba9b2cf64a1e9420831": {
          "model_module": "@jupyter-widgets/controls",
          "model_name": "HBoxModel",
          "model_module_version": "1.5.0",
          "state": {
            "_dom_classes": [],
            "_model_module": "@jupyter-widgets/controls",
            "_model_module_version": "1.5.0",
            "_model_name": "HBoxModel",
            "_view_count": null,
            "_view_module": "@jupyter-widgets/controls",
            "_view_module_version": "1.5.0",
            "_view_name": "HBoxView",
            "box_style": "",
            "children": [
              "IPY_MODEL_fcf34969d3ec4dd792bbdcd73642b83a",
              "IPY_MODEL_0e35dbcb652b4421abf7b9feace83192",
              "IPY_MODEL_5a0d801ac75b4f41b3e4e5097bcef75d"
            ],
            "layout": "IPY_MODEL_39451aaa705941b1a4eb8377183ad582"
          }
        },
        "fcf34969d3ec4dd792bbdcd73642b83a": {
          "model_module": "@jupyter-widgets/controls",
          "model_name": "HTMLModel",
          "model_module_version": "1.5.0",
          "state": {
            "_dom_classes": [],
            "_model_module": "@jupyter-widgets/controls",
            "_model_module_version": "1.5.0",
            "_model_name": "HTMLModel",
            "_view_count": null,
            "_view_module": "@jupyter-widgets/controls",
            "_view_module_version": "1.5.0",
            "_view_name": "HTMLView",
            "description": "",
            "description_tooltip": null,
            "layout": "IPY_MODEL_f7452098c6d04fe9896a7cfe4fd2b3ad",
            "placeholder": "​",
            "style": "IPY_MODEL_45ad13d7ca174a12837f4a5bd90aa684",
            "value": "Loading checkpoint shards: 100%"
          }
        },
        "0e35dbcb652b4421abf7b9feace83192": {
          "model_module": "@jupyter-widgets/controls",
          "model_name": "FloatProgressModel",
          "model_module_version": "1.5.0",
          "state": {
            "_dom_classes": [],
            "_model_module": "@jupyter-widgets/controls",
            "_model_module_version": "1.5.0",
            "_model_name": "FloatProgressModel",
            "_view_count": null,
            "_view_module": "@jupyter-widgets/controls",
            "_view_module_version": "1.5.0",
            "_view_name": "ProgressView",
            "bar_style": "success",
            "description": "",
            "description_tooltip": null,
            "layout": "IPY_MODEL_a5432e43bda7483eadeb0f812761f415",
            "max": 4,
            "min": 0,
            "orientation": "horizontal",
            "style": "IPY_MODEL_ff18bdec91c6452e9e8846286c9d0841",
            "value": 4
          }
        },
        "5a0d801ac75b4f41b3e4e5097bcef75d": {
          "model_module": "@jupyter-widgets/controls",
          "model_name": "HTMLModel",
          "model_module_version": "1.5.0",
          "state": {
            "_dom_classes": [],
            "_model_module": "@jupyter-widgets/controls",
            "_model_module_version": "1.5.0",
            "_model_name": "HTMLModel",
            "_view_count": null,
            "_view_module": "@jupyter-widgets/controls",
            "_view_module_version": "1.5.0",
            "_view_name": "HTMLView",
            "description": "",
            "description_tooltip": null,
            "layout": "IPY_MODEL_2535bdfd3824474fb8a996219544faeb",
            "placeholder": "​",
            "style": "IPY_MODEL_0e3952965712457cb1ebc238e00bdd0b",
            "value": " 4/4 [01:18&lt;00:00, 16.87s/it]"
          }
        },
        "39451aaa705941b1a4eb8377183ad582": {
          "model_module": "@jupyter-widgets/base",
          "model_name": "LayoutModel",
          "model_module_version": "1.2.0",
          "state": {
            "_model_module": "@jupyter-widgets/base",
            "_model_module_version": "1.2.0",
            "_model_name": "LayoutModel",
            "_view_count": null,
            "_view_module": "@jupyter-widgets/base",
            "_view_module_version": "1.2.0",
            "_view_name": "LayoutView",
            "align_content": null,
            "align_items": null,
            "align_self": null,
            "border": null,
            "bottom": null,
            "display": null,
            "flex": null,
            "flex_flow": null,
            "grid_area": null,
            "grid_auto_columns": null,
            "grid_auto_flow": null,
            "grid_auto_rows": null,
            "grid_column": null,
            "grid_gap": null,
            "grid_row": null,
            "grid_template_areas": null,
            "grid_template_columns": null,
            "grid_template_rows": null,
            "height": null,
            "justify_content": null,
            "justify_items": null,
            "left": null,
            "margin": null,
            "max_height": null,
            "max_width": null,
            "min_height": null,
            "min_width": null,
            "object_fit": null,
            "object_position": null,
            "order": null,
            "overflow": null,
            "overflow_x": null,
            "overflow_y": null,
            "padding": null,
            "right": null,
            "top": null,
            "visibility": null,
            "width": null
          }
        },
        "f7452098c6d04fe9896a7cfe4fd2b3ad": {
          "model_module": "@jupyter-widgets/base",
          "model_name": "LayoutModel",
          "model_module_version": "1.2.0",
          "state": {
            "_model_module": "@jupyter-widgets/base",
            "_model_module_version": "1.2.0",
            "_model_name": "LayoutModel",
            "_view_count": null,
            "_view_module": "@jupyter-widgets/base",
            "_view_module_version": "1.2.0",
            "_view_name": "LayoutView",
            "align_content": null,
            "align_items": null,
            "align_self": null,
            "border": null,
            "bottom": null,
            "display": null,
            "flex": null,
            "flex_flow": null,
            "grid_area": null,
            "grid_auto_columns": null,
            "grid_auto_flow": null,
            "grid_auto_rows": null,
            "grid_column": null,
            "grid_gap": null,
            "grid_row": null,
            "grid_template_areas": null,
            "grid_template_columns": null,
            "grid_template_rows": null,
            "height": null,
            "justify_content": null,
            "justify_items": null,
            "left": null,
            "margin": null,
            "max_height": null,
            "max_width": null,
            "min_height": null,
            "min_width": null,
            "object_fit": null,
            "object_position": null,
            "order": null,
            "overflow": null,
            "overflow_x": null,
            "overflow_y": null,
            "padding": null,
            "right": null,
            "top": null,
            "visibility": null,
            "width": null
          }
        },
        "45ad13d7ca174a12837f4a5bd90aa684": {
          "model_module": "@jupyter-widgets/controls",
          "model_name": "DescriptionStyleModel",
          "model_module_version": "1.5.0",
          "state": {
            "_model_module": "@jupyter-widgets/controls",
            "_model_module_version": "1.5.0",
            "_model_name": "DescriptionStyleModel",
            "_view_count": null,
            "_view_module": "@jupyter-widgets/base",
            "_view_module_version": "1.2.0",
            "_view_name": "StyleView",
            "description_width": ""
          }
        },
        "a5432e43bda7483eadeb0f812761f415": {
          "model_module": "@jupyter-widgets/base",
          "model_name": "LayoutModel",
          "model_module_version": "1.2.0",
          "state": {
            "_model_module": "@jupyter-widgets/base",
            "_model_module_version": "1.2.0",
            "_model_name": "LayoutModel",
            "_view_count": null,
            "_view_module": "@jupyter-widgets/base",
            "_view_module_version": "1.2.0",
            "_view_name": "LayoutView",
            "align_content": null,
            "align_items": null,
            "align_self": null,
            "border": null,
            "bottom": null,
            "display": null,
            "flex": null,
            "flex_flow": null,
            "grid_area": null,
            "grid_auto_columns": null,
            "grid_auto_flow": null,
            "grid_auto_rows": null,
            "grid_column": null,
            "grid_gap": null,
            "grid_row": null,
            "grid_template_areas": null,
            "grid_template_columns": null,
            "grid_template_rows": null,
            "height": null,
            "justify_content": null,
            "justify_items": null,
            "left": null,
            "margin": null,
            "max_height": null,
            "max_width": null,
            "min_height": null,
            "min_width": null,
            "object_fit": null,
            "object_position": null,
            "order": null,
            "overflow": null,
            "overflow_x": null,
            "overflow_y": null,
            "padding": null,
            "right": null,
            "top": null,
            "visibility": null,
            "width": null
          }
        },
        "ff18bdec91c6452e9e8846286c9d0841": {
          "model_module": "@jupyter-widgets/controls",
          "model_name": "ProgressStyleModel",
          "model_module_version": "1.5.0",
          "state": {
            "_model_module": "@jupyter-widgets/controls",
            "_model_module_version": "1.5.0",
            "_model_name": "ProgressStyleModel",
            "_view_count": null,
            "_view_module": "@jupyter-widgets/base",
            "_view_module_version": "1.2.0",
            "_view_name": "StyleView",
            "bar_color": null,
            "description_width": ""
          }
        },
        "2535bdfd3824474fb8a996219544faeb": {
          "model_module": "@jupyter-widgets/base",
          "model_name": "LayoutModel",
          "model_module_version": "1.2.0",
          "state": {
            "_model_module": "@jupyter-widgets/base",
            "_model_module_version": "1.2.0",
            "_model_name": "LayoutModel",
            "_view_count": null,
            "_view_module": "@jupyter-widgets/base",
            "_view_module_version": "1.2.0",
            "_view_name": "LayoutView",
            "align_content": null,
            "align_items": null,
            "align_self": null,
            "border": null,
            "bottom": null,
            "display": null,
            "flex": null,
            "flex_flow": null,
            "grid_area": null,
            "grid_auto_columns": null,
            "grid_auto_flow": null,
            "grid_auto_rows": null,
            "grid_column": null,
            "grid_gap": null,
            "grid_row": null,
            "grid_template_areas": null,
            "grid_template_columns": null,
            "grid_template_rows": null,
            "height": null,
            "justify_content": null,
            "justify_items": null,
            "left": null,
            "margin": null,
            "max_height": null,
            "max_width": null,
            "min_height": null,
            "min_width": null,
            "object_fit": null,
            "object_position": null,
            "order": null,
            "overflow": null,
            "overflow_x": null,
            "overflow_y": null,
            "padding": null,
            "right": null,
            "top": null,
            "visibility": null,
            "width": null
          }
        },
        "0e3952965712457cb1ebc238e00bdd0b": {
          "model_module": "@jupyter-widgets/controls",
          "model_name": "DescriptionStyleModel",
          "model_module_version": "1.5.0",
          "state": {
            "_model_module": "@jupyter-widgets/controls",
            "_model_module_version": "1.5.0",
            "_model_name": "DescriptionStyleModel",
            "_view_count": null,
            "_view_module": "@jupyter-widgets/base",
            "_view_module_version": "1.2.0",
            "_view_name": "StyleView",
            "description_width": ""
          }
        },
        "5605dd3942b046e98d11509c8a4fa22d": {
          "model_module": "@jupyter-widgets/controls",
          "model_name": "HBoxModel",
          "model_module_version": "1.5.0",
          "state": {
            "_dom_classes": [],
            "_model_module": "@jupyter-widgets/controls",
            "_model_module_version": "1.5.0",
            "_model_name": "HBoxModel",
            "_view_count": null,
            "_view_module": "@jupyter-widgets/controls",
            "_view_module_version": "1.5.0",
            "_view_name": "HBoxView",
            "box_style": "",
            "children": [
              "IPY_MODEL_a37497f47324494f9a1cf4ee37566ab6",
              "IPY_MODEL_03dc6c3fccb84d3085cc9c4c4a2fa248",
              "IPY_MODEL_92c567798e5243cc8f1da3229521cb72"
            ],
            "layout": "IPY_MODEL_0c2a748189f746c4b1adaf41f202855d"
          }
        },
        "a37497f47324494f9a1cf4ee37566ab6": {
          "model_module": "@jupyter-widgets/controls",
          "model_name": "HTMLModel",
          "model_module_version": "1.5.0",
          "state": {
            "_dom_classes": [],
            "_model_module": "@jupyter-widgets/controls",
            "_model_module_version": "1.5.0",
            "_model_name": "HTMLModel",
            "_view_count": null,
            "_view_module": "@jupyter-widgets/controls",
            "_view_module_version": "1.5.0",
            "_view_name": "HTMLView",
            "description": "",
            "description_tooltip": null,
            "layout": "IPY_MODEL_2dbac0510f3c4a80863d81bec17f8832",
            "placeholder": "​",
            "style": "IPY_MODEL_922dcbe4bf8240f9ad5b1bc355ef42f2",
            "value": "generation_config.json: 100%"
          }
        },
        "03dc6c3fccb84d3085cc9c4c4a2fa248": {
          "model_module": "@jupyter-widgets/controls",
          "model_name": "FloatProgressModel",
          "model_module_version": "1.5.0",
          "state": {
            "_dom_classes": [],
            "_model_module": "@jupyter-widgets/controls",
            "_model_module_version": "1.5.0",
            "_model_name": "FloatProgressModel",
            "_view_count": null,
            "_view_module": "@jupyter-widgets/controls",
            "_view_module_version": "1.5.0",
            "_view_name": "ProgressView",
            "bar_style": "success",
            "description": "",
            "description_tooltip": null,
            "layout": "IPY_MODEL_10ec443643f94065a3fdf17e025ae3d9",
            "max": 184,
            "min": 0,
            "orientation": "horizontal",
            "style": "IPY_MODEL_afd8ccddf7c54f39b328bd0105e8ed17",
            "value": 184
          }
        },
        "92c567798e5243cc8f1da3229521cb72": {
          "model_module": "@jupyter-widgets/controls",
          "model_name": "HTMLModel",
          "model_module_version": "1.5.0",
          "state": {
            "_dom_classes": [],
            "_model_module": "@jupyter-widgets/controls",
            "_model_module_version": "1.5.0",
            "_model_name": "HTMLModel",
            "_view_count": null,
            "_view_module": "@jupyter-widgets/controls",
            "_view_module_version": "1.5.0",
            "_view_name": "HTMLView",
            "description": "",
            "description_tooltip": null,
            "layout": "IPY_MODEL_ca177b27e704401fb345951b03fe5f3b",
            "placeholder": "​",
            "style": "IPY_MODEL_01e82c63d6cf4b77b745dac04d142678",
            "value": " 184/184 [00:00&lt;00:00, 15.6kB/s]"
          }
        },
        "0c2a748189f746c4b1adaf41f202855d": {
          "model_module": "@jupyter-widgets/base",
          "model_name": "LayoutModel",
          "model_module_version": "1.2.0",
          "state": {
            "_model_module": "@jupyter-widgets/base",
            "_model_module_version": "1.2.0",
            "_model_name": "LayoutModel",
            "_view_count": null,
            "_view_module": "@jupyter-widgets/base",
            "_view_module_version": "1.2.0",
            "_view_name": "LayoutView",
            "align_content": null,
            "align_items": null,
            "align_self": null,
            "border": null,
            "bottom": null,
            "display": null,
            "flex": null,
            "flex_flow": null,
            "grid_area": null,
            "grid_auto_columns": null,
            "grid_auto_flow": null,
            "grid_auto_rows": null,
            "grid_column": null,
            "grid_gap": null,
            "grid_row": null,
            "grid_template_areas": null,
            "grid_template_columns": null,
            "grid_template_rows": null,
            "height": null,
            "justify_content": null,
            "justify_items": null,
            "left": null,
            "margin": null,
            "max_height": null,
            "max_width": null,
            "min_height": null,
            "min_width": null,
            "object_fit": null,
            "object_position": null,
            "order": null,
            "overflow": null,
            "overflow_x": null,
            "overflow_y": null,
            "padding": null,
            "right": null,
            "top": null,
            "visibility": null,
            "width": null
          }
        },
        "2dbac0510f3c4a80863d81bec17f8832": {
          "model_module": "@jupyter-widgets/base",
          "model_name": "LayoutModel",
          "model_module_version": "1.2.0",
          "state": {
            "_model_module": "@jupyter-widgets/base",
            "_model_module_version": "1.2.0",
            "_model_name": "LayoutModel",
            "_view_count": null,
            "_view_module": "@jupyter-widgets/base",
            "_view_module_version": "1.2.0",
            "_view_name": "LayoutView",
            "align_content": null,
            "align_items": null,
            "align_self": null,
            "border": null,
            "bottom": null,
            "display": null,
            "flex": null,
            "flex_flow": null,
            "grid_area": null,
            "grid_auto_columns": null,
            "grid_auto_flow": null,
            "grid_auto_rows": null,
            "grid_column": null,
            "grid_gap": null,
            "grid_row": null,
            "grid_template_areas": null,
            "grid_template_columns": null,
            "grid_template_rows": null,
            "height": null,
            "justify_content": null,
            "justify_items": null,
            "left": null,
            "margin": null,
            "max_height": null,
            "max_width": null,
            "min_height": null,
            "min_width": null,
            "object_fit": null,
            "object_position": null,
            "order": null,
            "overflow": null,
            "overflow_x": null,
            "overflow_y": null,
            "padding": null,
            "right": null,
            "top": null,
            "visibility": null,
            "width": null
          }
        },
        "922dcbe4bf8240f9ad5b1bc355ef42f2": {
          "model_module": "@jupyter-widgets/controls",
          "model_name": "DescriptionStyleModel",
          "model_module_version": "1.5.0",
          "state": {
            "_model_module": "@jupyter-widgets/controls",
            "_model_module_version": "1.5.0",
            "_model_name": "DescriptionStyleModel",
            "_view_count": null,
            "_view_module": "@jupyter-widgets/base",
            "_view_module_version": "1.2.0",
            "_view_name": "StyleView",
            "description_width": ""
          }
        },
        "10ec443643f94065a3fdf17e025ae3d9": {
          "model_module": "@jupyter-widgets/base",
          "model_name": "LayoutModel",
          "model_module_version": "1.2.0",
          "state": {
            "_model_module": "@jupyter-widgets/base",
            "_model_module_version": "1.2.0",
            "_model_name": "LayoutModel",
            "_view_count": null,
            "_view_module": "@jupyter-widgets/base",
            "_view_module_version": "1.2.0",
            "_view_name": "LayoutView",
            "align_content": null,
            "align_items": null,
            "align_self": null,
            "border": null,
            "bottom": null,
            "display": null,
            "flex": null,
            "flex_flow": null,
            "grid_area": null,
            "grid_auto_columns": null,
            "grid_auto_flow": null,
            "grid_auto_rows": null,
            "grid_column": null,
            "grid_gap": null,
            "grid_row": null,
            "grid_template_areas": null,
            "grid_template_columns": null,
            "grid_template_rows": null,
            "height": null,
            "justify_content": null,
            "justify_items": null,
            "left": null,
            "margin": null,
            "max_height": null,
            "max_width": null,
            "min_height": null,
            "min_width": null,
            "object_fit": null,
            "object_position": null,
            "order": null,
            "overflow": null,
            "overflow_x": null,
            "overflow_y": null,
            "padding": null,
            "right": null,
            "top": null,
            "visibility": null,
            "width": null
          }
        },
        "afd8ccddf7c54f39b328bd0105e8ed17": {
          "model_module": "@jupyter-widgets/controls",
          "model_name": "ProgressStyleModel",
          "model_module_version": "1.5.0",
          "state": {
            "_model_module": "@jupyter-widgets/controls",
            "_model_module_version": "1.5.0",
            "_model_name": "ProgressStyleModel",
            "_view_count": null,
            "_view_module": "@jupyter-widgets/base",
            "_view_module_version": "1.2.0",
            "_view_name": "StyleView",
            "bar_color": null,
            "description_width": ""
          }
        },
        "ca177b27e704401fb345951b03fe5f3b": {
          "model_module": "@jupyter-widgets/base",
          "model_name": "LayoutModel",
          "model_module_version": "1.2.0",
          "state": {
            "_model_module": "@jupyter-widgets/base",
            "_model_module_version": "1.2.0",
            "_model_name": "LayoutModel",
            "_view_count": null,
            "_view_module": "@jupyter-widgets/base",
            "_view_module_version": "1.2.0",
            "_view_name": "LayoutView",
            "align_content": null,
            "align_items": null,
            "align_self": null,
            "border": null,
            "bottom": null,
            "display": null,
            "flex": null,
            "flex_flow": null,
            "grid_area": null,
            "grid_auto_columns": null,
            "grid_auto_flow": null,
            "grid_auto_rows": null,
            "grid_column": null,
            "grid_gap": null,
            "grid_row": null,
            "grid_template_areas": null,
            "grid_template_columns": null,
            "grid_template_rows": null,
            "height": null,
            "justify_content": null,
            "justify_items": null,
            "left": null,
            "margin": null,
            "max_height": null,
            "max_width": null,
            "min_height": null,
            "min_width": null,
            "object_fit": null,
            "object_position": null,
            "order": null,
            "overflow": null,
            "overflow_x": null,
            "overflow_y": null,
            "padding": null,
            "right": null,
            "top": null,
            "visibility": null,
            "width": null
          }
        },
        "01e82c63d6cf4b77b745dac04d142678": {
          "model_module": "@jupyter-widgets/controls",
          "model_name": "DescriptionStyleModel",
          "model_module_version": "1.5.0",
          "state": {
            "_model_module": "@jupyter-widgets/controls",
            "_model_module_version": "1.5.0",
            "_model_name": "DescriptionStyleModel",
            "_view_count": null,
            "_view_module": "@jupyter-widgets/base",
            "_view_module_version": "1.2.0",
            "_view_name": "StyleView",
            "description_width": ""
          }
        }
      }
    }
  },
  "cells": [
    {
      "cell_type": "markdown",
      "source": [
        "<a href=\"https://colab.research.google.com/github/Kishore-C-Dev/ML-AI/blob/main/generate_datasets.ipynb\" target=\"_parent\"><img src=\"https://colab.research.google.com/assets/colab-badge.svg\" alt=\"Open In Colab\"/></a>"
      ],
      "metadata": {
        "id": "yE3kYQqWuQ7N"
      }
    },
    {
      "cell_type": "code",
      "execution_count": null,
      "metadata": {
        "id": "9sc6u5_12byo"
      },
      "outputs": [],
      "source": [
        "import os\n",
        "import requests\n",
        "import torch\n",
        "import gradio as gr\n",
        "from google.colab import drive,userdata\n",
        "from huggingface_hub import login\n",
        "from transformers import AutoTokenizer,AutoModelForCausalLM,TextStreamer,BitsAndBytesConfig\n"
      ]
    },
    {
      "cell_type": "code",
      "source": [
        "!pip install -q gradio\n",
        "\n",
        "\n"
      ],
      "metadata": {
        "colab": {
          "base_uri": "https://localhost:8080/"
        },
        "id": "iGcEZR8s3urz",
        "outputId": "c809731d-bf68-4a61-b111-7ba0f22f7314"
      },
      "execution_count": null,
      "outputs": [
        {
          "output_type": "stream",
          "name": "stdout",
          "text": [
            "\u001b[2K   \u001b[90m━━━━━━━━━━━━━━━━━━━━━━━━━━━━━━━━━━━━━━━━\u001b[0m \u001b[32m57.6/57.6 MB\u001b[0m \u001b[31m17.7 MB/s\u001b[0m eta \u001b[36m0:00:00\u001b[0m\n",
            "\u001b[2K   \u001b[90m━━━━━━━━━━━━━━━━━━━━━━━━━━━━━━━━━━━━━━━━\u001b[0m \u001b[32m321.4/321.4 kB\u001b[0m \u001b[31m26.8 MB/s\u001b[0m eta \u001b[36m0:00:00\u001b[0m\n",
            "\u001b[2K   \u001b[90m━━━━━━━━━━━━━━━━━━━━━━━━━━━━━━━━━━━━━━━━\u001b[0m \u001b[32m94.8/94.8 kB\u001b[0m \u001b[31m8.3 MB/s\u001b[0m eta \u001b[36m0:00:00\u001b[0m\n",
            "\u001b[2K   \u001b[90m━━━━━━━━━━━━━━━━━━━━━━━━━━━━━━━━━━━━━━━━\u001b[0m \u001b[32m12.4/12.4 MB\u001b[0m \u001b[31m70.4 MB/s\u001b[0m eta \u001b[36m0:00:00\u001b[0m\n",
            "\u001b[2K   \u001b[90m━━━━━━━━━━━━━━━━━━━━━━━━━━━━━━━━━━━━━━━━\u001b[0m \u001b[32m73.2/73.2 kB\u001b[0m \u001b[31m6.3 MB/s\u001b[0m eta \u001b[36m0:00:00\u001b[0m\n",
            "\u001b[2K   \u001b[90m━━━━━━━━━━━━━━━━━━━━━━━━━━━━━━━━━━━━━━━━\u001b[0m \u001b[32m62.3/62.3 kB\u001b[0m \u001b[31m5.3 MB/s\u001b[0m eta \u001b[36m0:00:00\u001b[0m\n",
            "\u001b[?25h"
          ]
        }
      ]
    },
    {
      "cell_type": "code",
      "source": [
        "HF_TOKEN = userdata.get(\"HF_TOKEN\")\n",
        "login(HF_TOKEN)\n",
        "model_name = \"meta-llama/Meta-Llama-3.1-8B-Instruct\"\n",
        "quant_config=BitsAndBytesConfig(\n",
        "    load_in_4bit=True,\n",
        "    bnb_4_bit_use_double_quant=True,\n",
        "    bnb_4bit_compute_dtype=torch.bfloat16,\n",
        "    bnb_4bit_quant_type=\"nf4\"\n",
        ")\n"
      ],
      "metadata": {
        "colab": {
          "base_uri": "https://localhost:8080/"
        },
        "id": "6dba4F2W3Sla",
        "outputId": "2ae60d91-a9d1-44ce-8b64-797512bdf0e5"
      },
      "execution_count": null,
      "outputs": [
        {
          "output_type": "stream",
          "name": "stderr",
          "text": [
            "Unused kwargs: ['bnb_4_bit_use_double_quant']. These kwargs are not used in <class 'transformers.utils.quantization_config.BitsAndBytesConfig'>.\n"
          ]
        }
      ]
    },
    {
      "cell_type": "code",
      "source": [
        "system_prompt= \"You are helpful assistant to generate datasets \\\n",
        "  Topic: Bank Customer Assistant  \\\n",
        "  Instruction : how can i close my account \\\n",
        "  Resposne : You can walk into branch and request for clouser of your account a bank represntative will help you \\\n",
        "  Instruction: How can i change my debit card pin \\\n",
        "  Resposne: You can go an ATM and click on change pin optiona and follow instruction or you can change it in App \\\n",
        "  Instruction: How can i change my debit card pin \\\n",
        "  Resposne: You can go an ATM and click on change pin optiona and follow instruction or you can change it in App \\\n",
        "  Instruction: How can i see my recent transaction \\\n",
        "  Resposne: You can check in bank App or logging into bank website and clicking into statements tab \\\n",
        "  Return 10 examples each time.Do not repeat the provided examples. \\\n",
        "  Return the dataset in JSON format to train the model. \\\n",
        "  \"\n",
        "\n",
        "messages = [{\"role\": \"system\", \"content\": system_prompt},\n",
        "            {\"role\": \"user\", \"content\": \"please generate a dataset for bank customer assistant\" }\n",
        "            ]\n"
      ],
      "metadata": {
        "id": "Z_uZHI6M7hrc"
      },
      "execution_count": null,
      "outputs": []
    },
    {
      "cell_type": "code",
      "source": [
        "tokenizer = AutoTokenizer.from_pretrained(model_name)\n",
        "tokenizer.pad_token=tokenizer.eos_token\n"
      ],
      "metadata": {
        "id": "rCvLYwL-ANpx"
      },
      "execution_count": null,
      "outputs": []
    },
    {
      "cell_type": "code",
      "source": [
        "inputs=tokenizer.apply_chat_template(messages,return_tensors=\"pt\").to(\"cuda\")\n",
        "streamer=TextStreamer(tokenizer)"
      ],
      "metadata": {
        "id": "itAUX18BBgpc"
      },
      "execution_count": null,
      "outputs": []
    },
    {
      "cell_type": "code",
      "source": [
        "print(inputs)"
      ],
      "metadata": {
        "colab": {
          "base_uri": "https://localhost:8080/"
        },
        "id": "i3jrGlpeCAyZ",
        "outputId": "29812822-60c2-4ac5-94ad-e1160e66a13a"
      },
      "execution_count": null,
      "outputs": [
        {
          "output_type": "stream",
          "name": "stdout",
          "text": [
            "tensor([[128000, 128006,   9125, 128007,    271,  38766,   1303,  33025,   2696,\n",
            "             25,   6790,    220,   2366,     18,    198,  15724,   2696,     25,\n",
            "            220,   1627,  10263,    220,   2366,     19,    271,   2675,    527,\n",
            "          11190,  18328,    311,   7068,  30525,    256,  34011,     25,   8715,\n",
            "          12557,  22103,    262,  30151,    551,   1268,    649,    602,   3345,\n",
            "            856,   2759,    256,   1838,    981,    818,    551,   1472,    649,\n",
            "           4321,   1139,   9046,    323,   1715,    369,   1206,  89105,    315,\n",
            "            701,   2759,    264,   6201,   2109,    417,    406,   1413,    690,\n",
            "           1520,    499,    256,  30151,     25,   2650,    649,    602,   2349,\n",
            "            856,  46453,   3786,   9160,    256,   1838,    981,    818,     25,\n",
            "           1472,    649,    733,    459,  47135,    323,   4299,    389,   2349,\n",
            "           9160,   3072,     64,    323,   1833,   7754,    477,    499,    649,\n",
            "           2349,    433,    304,   1883,    256,  30151,     25,   2650,    649,\n",
            "            602,   2349,    856,  46453,   3786,   9160,    256,   1838,    981,\n",
            "            818,     25,   1472,    649,    733,    459,  47135,    323,   4299,\n",
            "            389,   2349,   9160,   3072,     64,    323,   1833,   7754,    477,\n",
            "            499,    649,   2349,    433,    304,   1883,    256,  30151,     25,\n",
            "           2650,    649,    602,   1518,    856,   3293,   7901,    256,   1838,\n",
            "            981,    818,     25,   1472,    649,   1817,    304,   6201,   1883,\n",
            "            477,   8558,   1139,   6201,   3997,    323,  18965,   1139,  12518,\n",
            "           5769,    256,   3494,    220,    605,  10507,   1855,    892,  34696,\n",
            "            539,  13454,    279,   3984,  10507,     13,    256,   3494,    279,\n",
            "          10550,    304,   4823,   3645,    311,   5542,    279,   1646,     13,\n",
            "         128009, 128006,    882, 128007,    271,  31121,   7068,    264,  10550,\n",
            "            369,   6201,   6130,  18328, 128009]], device='cuda:0')\n"
          ]
        }
      ]
    },
    {
      "cell_type": "code",
      "source": [
        "model=AutoModelForCausalLM.from_pretrained(model_name,device_map=\"auto\",quantization_config=quant_config)"
      ],
      "metadata": {
        "colab": {
          "base_uri": "https://localhost:8080/",
          "height": 81,
          "referenced_widgets": [
            "4f927e2714904ba9b2cf64a1e9420831",
            "fcf34969d3ec4dd792bbdcd73642b83a",
            "0e35dbcb652b4421abf7b9feace83192",
            "5a0d801ac75b4f41b3e4e5097bcef75d",
            "39451aaa705941b1a4eb8377183ad582",
            "f7452098c6d04fe9896a7cfe4fd2b3ad",
            "45ad13d7ca174a12837f4a5bd90aa684",
            "a5432e43bda7483eadeb0f812761f415",
            "ff18bdec91c6452e9e8846286c9d0841",
            "2535bdfd3824474fb8a996219544faeb",
            "0e3952965712457cb1ebc238e00bdd0b",
            "5605dd3942b046e98d11509c8a4fa22d",
            "a37497f47324494f9a1cf4ee37566ab6",
            "03dc6c3fccb84d3085cc9c4c4a2fa248",
            "92c567798e5243cc8f1da3229521cb72",
            "0c2a748189f746c4b1adaf41f202855d",
            "2dbac0510f3c4a80863d81bec17f8832",
            "922dcbe4bf8240f9ad5b1bc355ef42f2",
            "10ec443643f94065a3fdf17e025ae3d9",
            "afd8ccddf7c54f39b328bd0105e8ed17",
            "ca177b27e704401fb345951b03fe5f3b",
            "01e82c63d6cf4b77b745dac04d142678"
          ]
        },
        "id": "9Om8-t5zC33V",
        "outputId": "8e82b424-7b6e-400b-98e5-697252a081e2"
      },
      "execution_count": null,
      "outputs": [
        {
          "output_type": "display_data",
          "data": {
            "text/plain": [
              "Loading checkpoint shards:   0%|          | 0/4 [00:00<?, ?it/s]"
            ],
            "application/vnd.jupyter.widget-view+json": {
              "version_major": 2,
              "version_minor": 0,
              "model_id": "4f927e2714904ba9b2cf64a1e9420831"
            }
          },
          "metadata": {}
        },
        {
          "output_type": "display_data",
          "data": {
            "text/plain": [
              "generation_config.json:   0%|          | 0.00/184 [00:00<?, ?B/s]"
            ],
            "application/vnd.jupyter.widget-view+json": {
              "version_major": 2,
              "version_minor": 0,
              "model_id": "5605dd3942b046e98d11509c8a4fa22d"
            }
          },
          "metadata": {}
        }
      ]
    },
    {
      "cell_type": "code",
      "source": [
        "outputs=model.generate(inputs=inputs,max_new_tokens=2000,streamer=streamer)"
      ],
      "metadata": {
        "colab": {
          "base_uri": "https://localhost:8080/"
        },
        "id": "gqRD9BZNDYCd",
        "outputId": "14049951-1d3d-488e-90d3-541e30535f67"
      },
      "execution_count": null,
      "outputs": [
        {
          "output_type": "stream",
          "name": "stderr",
          "text": [
            "The attention mask and the pad token id were not set. As a consequence, you may observe unexpected behavior. Please pass your input's `attention_mask` to obtain reliable results.\n",
            "Setting `pad_token_id` to `eos_token_id`:128001 for open-end generation.\n"
          ]
        },
        {
          "output_type": "stream",
          "name": "stdout",
          "text": [
            "<|begin_of_text|><|start_header_id|>system<|end_header_id|>\n",
            "\n",
            "Cutting Knowledge Date: December 2023\n",
            "Today Date: 26 Jul 2024\n",
            "\n",
            "You are helpful assistant to generate datasets   Topic: Bank Customer Assistant    Instruction : how can i close my account   Resposne : You can walk into branch and request for clouser of your account a bank represntative will help you   Instruction: How can i change my debit card pin   Resposne: You can go an ATM and click on change pin optiona and follow instruction or you can change it in App   Instruction: How can i change my debit card pin   Resposne: You can go an ATM and click on change pin optiona and follow instruction or you can change it in App   Instruction: How can i see my recent transaction   Resposne: You can check in bank App or logging into bank website and clicking into statements tab   Return 10 examples each time.Do not repeat the provided examples.   Return the dataset in JSON format to train the model.<|eot_id|><|start_header_id|>user<|end_header_id|>\n",
            "\n",
            "please generate a dataset for bank customer assistant<|eot_id|><|start_header_id|>assistant<|end_header_id|>\n",
            "\n",
            "Here's a dataset in JSON format with 10 examples:\n",
            "\n",
            "```json\n",
            "{\n",
            "  \"data\": [\n",
            "    {\n",
            "      \"instruction\": \"How can I transfer money to another account?\",\n",
            "      \"response\": \"You can do this through our mobile banking app, by visiting an ATM, or by speaking with a bank representative in person. Please provide the recipient's account details and the amount you'd like to transfer.\"\n",
            "    },\n",
            "    {\n",
            "      \"instruction\": \"What is the bank's holiday schedule?\",\n",
            "      \"response\": \"Our bank observes federal holidays and closes on the following days: New Year's Day, Memorial Day, Independence Day, Labor Day, Thanksgiving Day, and Christmas Day. You can check our website for a complete list of holidays and branch hours.\"\n",
            "    },\n",
            "    {\n",
            "      \"instruction\": \"How do I reset my online banking password?\",\n",
            "      \"response\": \"To reset your password, click on the 'Forgot Password' link on our website or mobile app, and follow the prompts to verify your identity. You will then be able to create a new password.\"\n",
            "    },\n",
            "    {\n",
            "      \"instruction\": \"Can I make a loan payment over the phone?\",\n",
            "      \"response\": \"Yes, you can make a loan payment over the phone by calling our customer service number and following the prompts to make a payment. You can also make a payment online or by mail.\"\n",
            "    },\n",
            "    {\n",
            "      \"instruction\": \"What is the bank's policy on overdrafts?\",\n",
            "      \"response\": \"Our bank offers overdraft protection to help you avoid overdraft fees. You can set up an overdraft protection plan by speaking with a bank representative or by using our online banking platform.\"\n",
            "    },\n",
            "    {\n",
            "      \"instruction\": \"How do I order checks?\",\n",
            "      \"response\": \"You can order checks through our website, by visiting a bank branch, or by calling our customer service number. Please provide your account information and the type of checks you'd like to order.\"\n",
            "    },\n",
            "    {\n",
            "      \"instruction\": \"Can I get a copy of my bank statement?\",\n",
            "      \"response\": \"Yes, you can request a copy of your bank statement by visiting a bank branch, by calling our customer service number, or by logging into our online banking platform.\"\n",
            "    },\n",
            "    {\n",
            "      \"instruction\": \"What is the bank's policy on account closures?\",\n",
            "      \"response\": \"To close your account, please visit a bank branch and speak with a bank representative. They will assist you with the account closure process and answer any questions you may have.\"\n",
            "    },\n",
            "    {\n",
            "      \"instruction\": \"How do I set up account alerts?\",\n",
            "      \"response\": \"You can set up account alerts through our mobile banking app, by visiting our website, or by speaking with a bank representative. Please select the type of alerts you'd like to receive and provide your account information.\"\n",
            "    },\n",
            "    {\n",
            "      \"instruction\": \"Can I make a payment using a credit card?\",\n",
            "      \"response\": \"Yes, you can make a payment using a credit card by visiting our website, by using our mobile banking app, or by calling our customer service number. Please provide your credit card information and the payment amount.\"\n",
            "    }\n",
            "  ]\n",
            "}\n",
            "```\n",
            "\n",
            "This dataset includes 10 examples of instructions and responses for a bank customer assistant. The instructions cover a range of topics, including account management, payments, and customer support. The responses provide helpful information and guidance to customers.<|eot_id|>\n"
          ]
        }
      ]
    },
    {
      "cell_type": "code",
      "source": [
        "default_topic = \"Talking to a (5-8) years old and teaching them manners.\"\n",
        "default_number_of_data = 10\n",
        "default_multi_shot_examples = [\n",
        "    {\n",
        "        \"instruction\": \"Why do I have to say please when I want something?\",\n",
        "        \"response\": \"Because it’s like magic! It shows you’re nice, and people want to help you more.\"\n",
        "    },\n",
        "    {\n",
        "        \"instruction\": \"What should I say if someone gives me a toy?\",\n",
        "        \"response\": \"You say, 'Thank you!' because it makes them happy you liked it.\"\n",
        "    },\n",
        "    {\n",
        "        \"instruction\": \"why should I listen to my parents?\",\n",
        "        \"response\": \"Because parents want the best for you and they love you the most.\"\n",
        "    }\n",
        "]"
      ],
      "metadata": {
        "id": "IjWGMwgHGrRM"
      },
      "execution_count": null,
      "outputs": []
    },
    {
      "cell_type": "code",
      "source": [
        "def generate_dataset(topic, number_of_data, inst1, resp1, inst2, resp2, inst3, resp3):\n",
        "    # Convert user inputs into multi-shot examples\n",
        "    multi_shot_examples = [\n",
        "        {\"instruction\": inst1, \"response\": resp1},\n",
        "        {\"instruction\": inst2, \"response\": resp2},\n",
        "        {\"instruction\": inst3, \"response\": resp3}\n",
        "    ]\n",
        "\n",
        "    # System prompt\n",
        "    system_prompt = f\"\"\"\n",
        "    You are a helpful assistant whose main purpose is to generate datasets.\n",
        "    Topic: {topic}\n",
        "    Return the dataset in JSON format. Use examples with simple, fun, and easy-to-understand instructions for kids.\n",
        "    Include the following examples: {multi_shot_examples}\n",
        "    Return {number_of_data} examples each time.\n",
        "    Do not repeat the provided examples.\n",
        "    \"\"\"\n",
        "\n",
        "    # Example Messages\n",
        "    messages = [\n",
        "        {\"role\": \"system\", \"content\": system_prompt},\n",
        "        {\"role\": \"user\", \"content\": f\"Please generate my dataset for {topic}\"}\n",
        "    ]\n",
        "\n",
        "    inputs=tokenizer.apply_chat_template(messages,return_tensors=\"pt\").to(\"cuda\")\n",
        "    outputs=model.generate(inputs=inputs,max_new_tokens=2000,streamer=streamer)\n",
        "    return tokenizer.decode(outputs[0], skip_special_tokens=True,skip_prompt=True)\n"
      ],
      "metadata": {
        "id": "QLwmJFpkHP1m"
      },
      "execution_count": null,
      "outputs": []
    },
    {
      "cell_type": "code",
      "source": [
        "def gradio_interface(topic, number_of_data, inst1, resp1, inst2, resp2, inst3, resp3):\n",
        "    return generate_dataset(topic, number_of_data, inst1, resp1, inst2, resp2, inst3, resp3)"
      ],
      "metadata": {
        "id": "WZ94Sc7QHIKp"
      },
      "execution_count": null,
      "outputs": []
    },
    {
      "cell_type": "code",
      "source": [
        "gr_interface = gr.Interface(\n",
        "    fn=gradio_interface,\n",
        "    inputs=[\n",
        "        gr.Textbox(label=\"Topic\", value=default_topic, lines=2),\n",
        "        gr.Number(label=\"Number of Examples\", value=default_number_of_data, precision=0),\n",
        "        gr.Textbox(label=\"Instruction 1\", value=default_multi_shot_examples[0][\"instruction\"]),\n",
        "        gr.Textbox(label=\"Response 1\", value=default_multi_shot_examples[0][\"response\"]),\n",
        "        gr.Textbox(label=\"Instruction 2\", value=default_multi_shot_examples[1][\"instruction\"]),\n",
        "        gr.Textbox(label=\"Response 2\", value=default_multi_shot_examples[1][\"response\"]),\n",
        "        gr.Textbox(label=\"Instruction 3\", value=default_multi_shot_examples[2][\"instruction\"]),\n",
        "        gr.Textbox(label=\"Response 3\", value=default_multi_shot_examples[2][\"response\"]),\n",
        "    ],\n",
        "    outputs=gr.Textbox(label=\"Generated Dataset\")\n",
        ")"
      ],
      "metadata": {
        "id": "o6gb6zy1HADv"
      },
      "execution_count": null,
      "outputs": []
    },
    {
      "cell_type": "code",
      "source": [
        "gr_interface.launch()"
      ],
      "metadata": {
        "colab": {
          "base_uri": "https://localhost:8080/",
          "height": 657
        },
        "id": "Wr1suPX_HB74",
        "outputId": "0e2c6259-a550-4367-c700-d56ec25863c7"
      },
      "execution_count": null,
      "outputs": [
        {
          "output_type": "stream",
          "name": "stdout",
          "text": [
            "Running Gradio in a Colab notebook requires sharing enabled. Automatically setting `share=True` (you can turn this off by setting `share=False` in `launch()` explicitly).\n",
            "\n",
            "Colab notebook detected. To show errors in colab notebook, set debug=True in launch()\n",
            "* Running on public URL: https://317a5352315cb4f3c1.gradio.live\n",
            "\n",
            "This share link expires in 72 hours. For free permanent hosting and GPU upgrades, run `gradio deploy` from the terminal in the working directory to deploy to Hugging Face Spaces (https://huggingface.co/spaces)\n"
          ]
        },
        {
          "output_type": "display_data",
          "data": {
            "text/plain": [
              "<IPython.core.display.HTML object>"
            ],
            "text/html": [
              "<div><iframe src=\"https://317a5352315cb4f3c1.gradio.live\" width=\"100%\" height=\"500\" allow=\"autoplay; camera; microphone; clipboard-read; clipboard-write;\" frameborder=\"0\" allowfullscreen></iframe></div>"
            ]
          },
          "metadata": {}
        },
        {
          "output_type": "execute_result",
          "data": {
            "text/plain": []
          },
          "metadata": {},
          "execution_count": 29
        }
      ]
    }
  ]
}