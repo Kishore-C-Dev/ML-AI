{
  "nbformat": 4,
  "nbformat_minor": 0,
  "metadata": {
    "colab": {
      "provenance": [],
      "gpuType": "T4",
      "authorship_tag": "ABX9TyOtSYcHJ7pOb4qx51ndlGCz",
      "include_colab_link": true
    },
    "kernelspec": {
      "name": "python3",
      "display_name": "Python 3"
    },
    "language_info": {
      "name": "python"
    },
    "accelerator": "GPU"
  },
  "cells": [
    {
      "cell_type": "markdown",
      "metadata": {
        "id": "view-in-github",
        "colab_type": "text"
      },
      "source": [
        "<a href=\"https://colab.research.google.com/github/Kishore-C-Dev/ML-AI/blob/main/summerize_pdf.ipynb\" target=\"_parent\"><img src=\"https://colab.research.google.com/assets/colab-badge.svg\" alt=\"Open In Colab\"/></a>"
      ]
    },
    {
      "cell_type": "code",
      "execution_count": null,
      "metadata": {
        "colab": {
          "base_uri": "https://localhost:8080/"
        },
        "id": "VwYCG7MmVmTE",
        "outputId": "361a3c15-e712-4d82-f40e-cad19611db74"
      },
      "outputs": [
        {
          "output_type": "stream",
          "name": "stdout",
          "text": [
            "Collecting pypdf\n",
            "  Downloading pypdf-5.1.0-py3-none-any.whl.metadata (7.2 kB)\n",
            "Downloading pypdf-5.1.0-py3-none-any.whl (297 kB)\n",
            "\u001b[?25l   \u001b[90m━━━━━━━━━━━━━━━━━━━━━━━━━━━━━━━━━━━━━━━━\u001b[0m \u001b[32m0.0/298.0 kB\u001b[0m \u001b[31m?\u001b[0m eta \u001b[36m-:--:--\u001b[0m\r\u001b[2K   \u001b[91m━━━━━━━━━━━━━━━━━━━━━━━━━━━━━━━━━━━━━━━\u001b[0m\u001b[91m╸\u001b[0m \u001b[32m297.0/298.0 kB\u001b[0m \u001b[31m8.8 MB/s\u001b[0m eta \u001b[36m0:00:01\u001b[0m\r\u001b[2K   \u001b[90m━━━━━━━━━━━━━━━━━━━━━━━━━━━━━━━━━━━━━━━━\u001b[0m \u001b[32m298.0/298.0 kB\u001b[0m \u001b[31m6.6 MB/s\u001b[0m eta \u001b[36m0:00:00\u001b[0m\n",
            "\u001b[?25hInstalling collected packages: pypdf\n",
            "Successfully installed pypdf-5.1.0\n"
          ]
        }
      ],
      "source": [
        "\n",
        "\n",
        "\n",
        "#!pip install --upgrade gradio\n",
        "#!pip install -U langchain-community\n",
        "#!pip install pypdf\n"
      ]
    },
    {
      "cell_type": "code",
      "source": [
        "import gradio as gr\n",
        "import torch\n",
        "from transformers import pipeline\n",
        "from langchain.prompts import PromptTemplate\n",
        "from langchain.chains import LLMChain\n",
        "from langchain.llms import HuggingFacePipeline\n",
        "from PyPDF2 import PdfReader\n",
        "\n"
      ],
      "metadata": {
        "id": "j80DJHCKW0Wy"
      },
      "execution_count": null,
      "outputs": []
    },
    {
      "cell_type": "code",
      "source": [
        "device = 0 if torch.cuda.is_available() else -1"
      ],
      "metadata": {
        "id": "0lYxRz2nfcrm"
      },
      "execution_count": null,
      "outputs": []
    },
    {
      "cell_type": "code",
      "source": [
        "# Load Hugging Face summarization model\n",
        "hf_summarizer = pipeline(\"summarization\", model=\"facebook/bart-large-cnn\", device=device)\n",
        "\n",
        "# Wrap the Hugging Face pipeline in a LangChain LLM\n",
        "llm = HuggingFacePipeline(pipeline=hf_summarizer)\n",
        "\n",
        "\n"
      ],
      "metadata": {
        "colab": {
          "base_uri": "https://localhost:8080/"
        },
        "id": "IH42M0zCXPp0",
        "outputId": "2bd66c99-8372-4523-a983-9e7b97f0b086"
      },
      "execution_count": null,
      "outputs": [
        {
          "output_type": "stream",
          "name": "stderr",
          "text": [
            "Device set to use cuda:0\n",
            "<ipython-input-30-52902a14eb5f>:5: LangChainDeprecationWarning: The class `HuggingFacePipeline` was deprecated in LangChain 0.0.37 and will be removed in 1.0. An updated version of the class exists in the :class:`~langchain-huggingface package and should be used instead. To use it run `pip install -U :class:`~langchain-huggingface` and import as `from :class:`~langchain_huggingface import HuggingFacePipeline``.\n",
            "  llm = HuggingFacePipeline(pipeline=hf_summarizer)\n"
          ]
        }
      ]
    },
    {
      "cell_type": "code",
      "source": [
        "# LangChain prompt template for summarization\n",
        "prompt_template = PromptTemplate(\n",
        "    input_variables=[\"text\"],\n",
        "    template=\"Provide a concise and comprehensive summary of the following text. Capture the key points, main arguments, and essential information and write in markdown format:\\n\\n{text}\\n\\nSummary:\"\n",
        ")\n",
        "# LangChain summarization chain\n",
        "summarization_chain = LLMChain(llm=llm, prompt=prompt_template)\n",
        "\n",
        "# Function to extract text from a PDF\n",
        "def extract_text_from_pdf(file):\n",
        "    reader = PdfReader(file)\n",
        "    text = \"\"\n",
        "    for page in reader.pages:\n",
        "        text += page.extract_text()\n",
        "    return text\n",
        "\n",
        "# Function to summarize extracted text\n",
        "def summarize_with_langchain(text, max_chunk_size=2000):\n",
        "    # Split text into manageable chunks\n",
        "    chunks = [text[i:i+max_chunk_size] for i in range(0, len(text), max_chunk_size)]\n",
        "\n",
        "    # Aggregate summaries\n",
        "    full_summary = \"\"\n",
        "    for chunk in chunks:\n",
        "        result = summarization_chain.run({\"text\": chunk})\n",
        "        full_summary += result + \"\\n\\n\"\n",
        "\n",
        "    return full_summary\n",
        "\n",
        "# Gradio function to handle file upload and summarization\n",
        "def process_pdf(file):\n",
        "    # Extract text from the uploaded PDF\n",
        "    text = extract_text_from_pdf(file)\n",
        "\n",
        "    # Summarize the text\n",
        "    summary = summarize_with_langchain(text)\n",
        "    return summary\n",
        "\n",
        "\n",
        "\n"
      ],
      "metadata": {
        "id": "ocspghKNgHdr"
      },
      "execution_count": null,
      "outputs": []
    },
    {
      "cell_type": "code",
      "source": [
        "# Create Gradio UI\n",
        "with gr.Blocks() as demo:\n",
        "    gr.Markdown(\"### PDF Summarizer Using LangChain with Hugging Face\")\n",
        "    gr.Markdown(\"Upload a PDF to extract and summarize its content using LangChain and a Hugging Face model.\")\n",
        "\n",
        "    # Input and output components\n",
        "    file_input = gr.File(label=\"Upload PDF\", file_types=[\".pdf\"])\n",
        "    summary_output = gr.Textbox(label=\"Summary\", lines=20)\n",
        "\n",
        "    # Button to trigger summarization\n",
        "    summarize_button = gr.Button(\"Summarize\")\n",
        "\n",
        "    # Define workflow\n",
        "    summarize_button.click(\n",
        "        process_pdf,\n",
        "        inputs=file_input,\n",
        "        outputs=summary_output,\n",
        "        api_name=\"summarize\"\n",
        "    )\n"
      ],
      "metadata": {
        "id": "YXY4bv7qgRxm"
      },
      "execution_count": null,
      "outputs": []
    },
    {
      "cell_type": "code",
      "source": [
        "# Launch the Gradio app\n",
        "demo.launch()"
      ],
      "metadata": {
        "colab": {
          "base_uri": "https://localhost:8080/",
          "height": 657
        },
        "id": "d06I1x_SgUFb",
        "outputId": "5bbe0168-7152-4e88-9545-b111b54f94ea"
      },
      "execution_count": null,
      "outputs": [
        {
          "output_type": "stream",
          "name": "stdout",
          "text": [
            "Running Gradio in a Colab notebook requires sharing enabled. Automatically setting `share=True` (you can turn this off by setting `share=False` in `launch()` explicitly).\n",
            "\n",
            "Colab notebook detected. To show errors in colab notebook, set debug=True in launch()\n",
            "* Running on public URL: https://ecbaf7723f04ae640a.gradio.live\n",
            "\n",
            "This share link expires in 72 hours. For free permanent hosting and GPU upgrades, run `gradio deploy` from the terminal in the working directory to deploy to Hugging Face Spaces (https://huggingface.co/spaces)\n"
          ]
        },
        {
          "output_type": "display_data",
          "data": {
            "text/plain": [
              "<IPython.core.display.HTML object>"
            ],
            "text/html": [
              "<div><iframe src=\"https://ecbaf7723f04ae640a.gradio.live\" width=\"100%\" height=\"500\" allow=\"autoplay; camera; microphone; clipboard-read; clipboard-write;\" frameborder=\"0\" allowfullscreen></iframe></div>"
            ]
          },
          "metadata": {}
        },
        {
          "output_type": "execute_result",
          "data": {
            "text/plain": []
          },
          "metadata": {},
          "execution_count": 46
        }
      ]
    },
    {
      "cell_type": "code",
      "source": [],
      "metadata": {
        "id": "MP34bVwDc-64"
      },
      "execution_count": null,
      "outputs": []
    }
  ]
}